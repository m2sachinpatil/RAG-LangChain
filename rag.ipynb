{
 "cells": [
  {
   "cell_type": "markdown",
   "metadata": {},
   "source": [
    "<h2>Retrieval-Augmented Generation (RAG) - Using OpenAI and LangChain</h2>\n",
    " combines two fundamental approaches in natural language processing: generation and retrieval. Here's how it typically works:\n",
    "\n",
    " ![image-2.png](attachment:image-2.png)\n",
    "\n",
    "1. **Retrieval Component**: The system has access to a database or a large repository of structured or unstructured data. This database contains information relevant to the task at hand, such as facts, knowledge, or contextual information.\n",
    "\n",
    "2. **Retrieval Process**: When presented with a query or prompt, the system first retrieves relevant information from the database using retrieval techniques. This retrieval can involve various methods such as keyword matching, semantic similarity, or more advanced algorithms like dense retrieval using neural networks.\n",
    "\n",
    "3. **Generation Component**: After retrieving relevant information, the system then utilizes a generative language model (such as GPT) to generate a response or complete the task. This generative component is responsible for producing natural language text based on the input query and retrieved information.\n",
    "\n",
    "4. **Integration**: The retrieved information is integrated into the generation process, influencing the content and structure of the generated response. This integration can occur at different levels, from simple concatenation of retrieved passages to more sophisticated methods that selectively incorporate relevant information while generating the response.\n",
    "\n",
    "5. **Output**: The final output is a response that combines both generated text and retrieved information, tailored to address the input query or task. The integration of retrieval and generation allows the system to leverage external knowledge sources to produce more accurate, coherent, and contextually relevant responses.\n",
    "\n",
    "Overall, RAG models enable more informed and contextually rich interactions by leveraging both generative capabilities and access to external knowledge sources. They are particularly useful in tasks that require access to domain-specific knowledge or where context plays a crucial role in generating accurate responses.\n",
    "\n",
    "Let's begin by initializing the environment variables required for use.\n",
    "- pip install python-dotenv"
   ]
  },
  {
   "cell_type": "code",
   "execution_count": 21,
   "metadata": {},
   "outputs": [],
   "source": [
    "import os\n",
    "from dotenv import load_dotenv\n",
    "\n",
    "load_dotenv()\n",
    "\n",
    "OPENAI_API_KEY = os.getenv(\"API Key\")\n",
    "\n",
    "# This is the YouTube video we're going to use.\n",
    "YOUTUBE_VIDEO = \"https://www.youtube.com/watch?v=cdiD-9MMpb0\"\n"
   ]
  },
  {
   "cell_type": "markdown",
   "metadata": {},
   "source": [
    "Let's establish the model configuration for our workflow. We'll define the Large Language Model (LLM) that we'll utilize.\n",
    " - pip install langchain_openai\n"
   ]
  },
  {
   "cell_type": "code",
   "execution_count": 22,
   "metadata": {},
   "outputs": [],
   "source": [
    "from langchain_openai.chat_models import ChatOpenAI\n",
    "\n",
    "model = ChatOpenAI(openai_api_key=OPENAI_API_KEY)"
   ]
  },
  {
   "cell_type": "markdown",
   "metadata": {},
   "source": [
    "<p>Transforming the model's output into an AIMessage instance containing the answer involves a process known as chaining. Here's an illustration of how this chaining is typically executed:</p>\n",
    "<p><strong>1. Model Output:</strong> After feeding input to the model, it generates a response. This response may be in raw form, such as a string of text.</p>\n",
    "<p>2. Output Parser: The output parser is a component designed to interpret and extract meaningful information from the model's response. It analyzes the model's output and structures it into a structured format, such as an AIMessage instance.</p>\n",
    "<p>3. AIMessage Instance: The AIMessage instance encapsulates the extracted information from the model's output in a format that's convenient for further processing or presentation. It might contain attributes like the answer to a question, metadata, or any other relevant details.</p>\n",
    "<p>By chaining the model with an output parser, you can seamlessly convert the raw output into a structured format that's easier to work with and understand.</p>"
   ]
  },
  {
   "cell_type": "code",
   "execution_count": 5,
   "metadata": {},
   "outputs": [
    {
     "data": {
      "text/plain": [
       "'Prompt engineering is the process of designing and developing prompts or cues that are used to trigger specific behaviors, actions, or responses in individuals. This can be done in a variety of contexts, such as in user interfaces for software applications, in educational settings to guide learning, or in marketing to influence consumer behavior. The goal of prompt engineering is to create prompts that are clear, effective, and persuasive in achieving the desired outcome.'"
      ]
     },
     "execution_count": 5,
     "metadata": {},
     "output_type": "execute_result"
    }
   ],
   "source": [
    "from langchain_core.output_parsers import StrOutputParser\n",
    "\n",
    "parser = StrOutputParser()\n",
    "\n",
    "chain = model | parser\n",
    "chain.invoke(\"What is prompt enginnering?\")"
   ]
  },
  {
   "cell_type": "markdown",
   "metadata": {},
   "source": [
    "<h3><strong>Prompt Templates</strong></h3>\n",
    "<p>We aim to furnish the model with both context and a question. Prompt templates offer a straightforward method for specifying and reusing prompts.<span style=\"color: rgb(226, 80, 65);\"> <a href=\"https://python.langchain.com/docs/modules/model_io/prompts/quick_start\" style=\"text-align: left;color: var(--jp-content-link-color);background-color: rgb(255, 255, 255);font-size: 14px;\">Prompt templates</a></span></p>"
   ]
  },
  {
   "cell_type": "code",
   "execution_count": 7,
   "metadata": {},
   "outputs": [
    {
     "data": {
      "text/plain": [
       "'Human: \\nAnswer the question based on the context below. If you can\\'t \\nanswer the question, reply \"Sorry, I don\\'t know\".\\n\\nContext: India is fifth largest GDP\\n\\nQuestion: What is India\\'s rank in terms of global GDP?\\n'"
      ]
     },
     "execution_count": 7,
     "metadata": {},
     "output_type": "execute_result"
    }
   ],
   "source": [
    "from langchain.prompts import ChatPromptTemplate\n",
    "\n",
    "template = \"\"\"\n",
    "Answer the question based on the context below. If you can't \n",
    "answer the question, reply \"Sorry, I don't know\".\n",
    "\n",
    "Context: {context}\n",
    "\n",
    "Question: {question}\n",
    "\"\"\"\n",
    "\n",
    "prompt = ChatPromptTemplate.from_template(template)\n",
    "prompt.format(context=\"India is fifth largest GDP\", question=\"What is India's rank in terms of global GDP?\")"
   ]
  },
  {
   "cell_type": "markdown",
   "metadata": {},
   "source": [
    "We're now able to link the prompt with both the model and the output parser, allowing for a seamless process."
   ]
  },
  {
   "cell_type": "code",
   "execution_count": 9,
   "metadata": {},
   "outputs": [
    {
     "data": {
      "text/plain": [
       "'India is ranked fifth in terms of global GDP.'"
      ]
     },
     "execution_count": 9,
     "metadata": {},
     "output_type": "execute_result"
    }
   ],
   "source": [
    "chain = prompt | model | parser\n",
    "chain.invoke({\n",
    "    \"context\": \"India is fifth largest GDP\",\n",
    "    \"question\": \"What is India's rank in terms of global GDP?\"\n",
    "})"
   ]
  },
  {
   "cell_type": "markdown",
   "metadata": {},
   "source": [
    "<h2><strong>Large Text &nbsp;As Context</strong></h2>\n",
    "<p>With the integration of the prompt, model, and output parser, users can streamline their workflow by seamlessly connecting large context, &nbsp;result interpretation. This cohesive system enhances efficiency and accuracy in processing information. Lets keep our information in text file for now and we will pass as context to chain.&nbsp;</p>"
   ]
  },
  {
   "cell_type": "code",
   "execution_count": 10,
   "metadata": {},
   "outputs": [
    {
     "data": {
      "text/plain": [
       "\"I think it's possible that physics has exploits and we should be trying to find them. arranging some\""
      ]
     },
     "execution_count": 10,
     "metadata": {},
     "output_type": "execute_result"
    }
   ],
   "source": [
    "with open(\"data.txt\") as file:\n",
    "    transcription = file.read()\n",
    "\n",
    "transcription[:100]"
   ]
  },
  {
   "cell_type": "markdown",
   "metadata": {},
   "source": [
    "Lets ask our question to large context "
   ]
  },
  {
   "cell_type": "code",
   "execution_count": 13,
   "metadata": {},
   "outputs": [
    {
     "name": "stdout",
     "output_type": "stream",
     "text": [
      "Error code: 429 - {'error': {'message': 'Request too large for gpt-3.5-turbo in organization org-O7gVNem5mEx5mWawyOL6I1O5 on tokens per min (TPM): Limit 40000, Requested 54019. The input or output tokens must be reduced in order to run successfully. Visit https://platform.openai.com/account/rate-limits to learn more. You can increase your rate limit by adding a payment method to your account at https://platform.openai.com/account/billing.', 'type': 'tokens', 'param': None, 'code': 'rate_limit_exceeded'}}\n"
     ]
    }
   ],
   "source": [
    "try:\n",
    "    chain.invoke({\n",
    "        \"context\": transcription,\n",
    "        \"question\": \"What are some of the diverse landscapes mentioned in the description of India?\"\n",
    "    })\n",
    "except Exception as e:\n",
    "    print(e)"
   ]
  },
  {
   "attachments": {
    "image.png": {
     "image/png": "[encoded data removed]"
    }
   },
   "cell_type": "markdown",
   "metadata": {},
   "source": [
    "<h4>Output</h4>\n",
    "\n",
    "Error code: 429 - {'error': {'message': 'Request too large for gpt-3.5-turbo in organization org-O7gVNem5mEx5mWawyOL6I1O5 on tokens per min (TPM): Limit 40000, Requested 54019. The input or output tokens must be reduced in order to run successfully. Visit https://platform.openai.com/account/rate-limits to learn more. You can increase your rate limit by adding a payment method to your account at https://platform.openai.com/account/billing.', 'type': 'tokens', 'param': None, 'code': 'rate_limit_exceeded'}}\n",
    "\n",
    "![image.png](attachment:image.png)\n",
    "\n",
    "<h5> What is solution  -> Splitting the transcription</h5>\n",
    "<p>Given that we're unable to employ the full text as context for the model, one approach is to divide the text into smaller segments. This segmentation enables us to call upon the model using solely the pertinent segments to address specific inquiries.</p>\n",
    "\n",
    "Let's start by loading the text in memory:\n",
    "\n",
    "\n"
   ]
  },
  {
   "cell_type": "code",
   "execution_count": 14,
   "metadata": {},
   "outputs": [
    {
     "data": {
      "text/plain": [
       "[Document(page_content='Certainly! Here\\'s a larger response regarding India:\\nIndia, officially known as the Republic of India, is a country located in South Asia. It is the seventh-largest country by land area and the second-most populous country in the world, with over 1.3 billion people. India shares its borders with Pakistan to the northwest, China and Nepal to the north, Bhutan to the northeast, and Bangladesh and Myanmar to the east. The Indian Ocean lies to the south of India.\\nIndia has a rich and diverse cultural heritage that dates back thousands of years. It has been home to several ancient civilizations and has been a major center for trade and commerce since ancient times. The Indian subcontinent has seen the rise and fall of many empires and dynasties, including the Maurya, Gupta, Mughal, and British empires.\\nIn modern times, India is known for its vibrant democracy, diverse culture, and rapidly growing economy. It is a federal parliamentary democratic republic, with a President as the head of state and a Prime Minister as the head of government. India\\'s political system is based on the principles of secularism, socialism, and democracy.\\nIndia\\'s economy is one of the fastest-growing in the world, driven by sectors such as information technology, agriculture, manufacturing, and services. It has a mixed economy with agriculture, manufacturing, and services contributing significantly to its GDP. The country is also a major player in the global information technology industry, with cities like Bangalore and Hyderabad being hubs for IT companies.\\nDespite its economic growth, India faces several challenges, including poverty, inequality, corruption, and environmental degradation. The government has taken steps to address these issues through various social welfare programs and economic reforms.\\nIndia is also known for its rich cultural heritage, which includes classical music, dance, art, literature, and cuisine. It is home to several UNESCO World Heritage Sites, including the Taj Mahal, Qutub Minar, and Red Fort.\\nOverall, India is a country of contrasts, where ancient traditions coexist with modernity, and where diversity is celebrated as a strength. It continues to play an increasingly important role on the global stage, both economically and culturally.\\nIndia, often referred to as the jewel of the East, is a land of remarkable diversity, encompassing a tapestry of languages, religions, traditions, and landscapes. From the snow-capped peaks of the Himalayas in the north to the sun-kissed beaches of Goa in the west and the lush backwaters of Kerala in the south, India offers a kaleidoscope of experiences for travelers and adventurers alike.\\nOne of the most striking features of India is its cultural mosaic, which is a blend of ancient customs and modern influences. The country is home to several religions, including Hinduism, Buddhism, Islam, Sikhism, and Christianity, each with its own festivals, rituals, and traditions. Diwali, Holi, Eid, and Christmas are just a few examples of the vibrant celebrations that take place across the country throughout the year.\\nIndia\\'s cuisine is as diverse as its culture, with each region boasting its own unique flavors and delicacies. From the spicy curries of the south to the aromatic biryanis of the north and the delectable street food found in every city, Indian cuisine is a feast for the senses.\\nIn addition to its cultural richness, India is also known for its architectural marvels, from the ancient temples of Hampi and Khajuraho to the majestic forts and palaces of Rajasthan. The Taj Mahal, a UNESCO World Heritage Site and one of the Seven Wonders of the World, stands as a testament to the country\\'s rich history and architectural prowess.\\nIndia\\'s wildlife is equally diverse, with national parks and sanctuaries scattered across the country providing refuge to endangered species such as tigers, elephants, and rhinoceroses. The Ranthambore National Park, Kaziranga National Park, and Bandhavgarh National Park are just a few examples of the country\\'s thriving biodiversity.\\nDespite its many treasures, India also faces numerous challenges, including poverty, illiteracy, and inadequate healthcare. However, the country\\'s resilient spirit and entrepreneurial drive have fueled its rapid economic growth and positioned it as a key player on the global stage.\\nIn recent years, India has emerged as a leader in technology and innovation, with cities like Bengaluru, Hyderabad, and Pune earning the moniker of \"Silicon Valley of India.\" The country\\'s space program, led by the Indian Space Research Organisation (ISRO), has achieved numerous milestones, including sending a spacecraft to Mars at a fraction of the cost of similar missions by other countries.\\nAs India continues to navigate the complexities of the modern world, it remains rooted in its age-old traditions and values, serving as a source of inspiration and fascination for people around the globe. Whether exploring its ancient temples, sampling its diverse cuisine, or marveling at its natural beauty, India never fails to captivate the imagination and leave a lasting impression on all who visit.', metadata={'source': 'data.txt'})]"
      ]
     },
     "execution_count": 14,
     "metadata": {},
     "output_type": "execute_result"
    }
   ],
   "source": [
    "from langchain_community.document_loaders import TextLoader\n",
    "\n",
    "loader = TextLoader(\"data.txt\")\n",
    "text_documents = loader.load()\n",
    "text_documents"
   ]
  },
  {
   "cell_type": "markdown",
   "metadata": {},
   "source": [
    "<p>There are various methods to divide a document. In this instance, we'll employ a basic splitter that segments the document into fixed-size chunks. For demonstration, we'll split the transcription into segments of 500 characters with a 10-character overlap and exhibit the initial segments.</p>"
   ]
  },
  {
   "cell_type": "code",
   "execution_count": 17,
   "metadata": {},
   "outputs": [
    {
     "data": {
      "text/plain": [
       "[Document(page_content=\"Certainly! Here's a larger response regarding India:\\nIndia, officially known as the Republic of India, is a country located in South Asia. It is the seventh-largest country by land area and the second-most populous country in the world, with over 1.3 billion people. India shares its borders with Pakistan to the northwest, China and Nepal to the north, Bhutan to the northeast, and Bangladesh and Myanmar to the east. The Indian Ocean lies to the south of India.\", metadata={'source': 'data.txt'}),\n",
       " Document(page_content='India has a rich and diverse cultural heritage that dates back thousands of years. It has been home to several ancient civilizations and has been a major center for trade and commerce since ancient times. The Indian subcontinent has seen the rise and fall of many empires and dynasties, including the Maurya, Gupta, Mughal, and British empires.', metadata={'source': 'data.txt'}),\n",
       " Document(page_content=\"In modern times, India is known for its vibrant democracy, diverse culture, and rapidly growing economy. It is a federal parliamentary democratic republic, with a President as the head of state and a Prime Minister as the head of government. India's political system is based on the principles of secularism, socialism, and democracy.\", metadata={'source': 'data.txt'}),\n",
       " Document(page_content=\"India's economy is one of the fastest-growing in the world, driven by sectors such as information technology, agriculture, manufacturing, and services. It has a mixed economy with agriculture, manufacturing, and services contributing significantly to its GDP. The country is also a major player in the global information technology industry, with cities like Bangalore and Hyderabad being hubs for IT companies.\", metadata={'source': 'data.txt'}),\n",
       " Document(page_content='Despite its economic growth, India faces several challenges, including poverty, inequality, corruption, and environmental degradation. The government has taken steps to address these issues through various social welfare programs and economic reforms.\\nIndia is also known for its rich cultural heritage, which includes classical music, dance, art, literature, and cuisine. It is home to several UNESCO World Heritage Sites, including the Taj Mahal, Qutub Minar, and Red Fort.', metadata={'source': 'data.txt'}),\n",
       " Document(page_content='Overall, India is a country of contrasts, where ancient traditions coexist with modernity, and where diversity is celebrated as a strength. It continues to play an increasingly important role on the global stage, both economically and culturally.', metadata={'source': 'data.txt'}),\n",
       " Document(page_content='India, often referred to as the jewel of the East, is a land of remarkable diversity, encompassing a tapestry of languages, religions, traditions, and landscapes. From the snow-capped peaks of the Himalayas in the north to the sun-kissed beaches of Goa in the west and the lush backwaters of Kerala in the south, India offers a kaleidoscope of experiences for travelers and adventurers alike.', metadata={'source': 'data.txt'}),\n",
       " Document(page_content='One of the most striking features of India is its cultural mosaic, which is a blend of ancient customs and modern influences. The country is home to several religions, including Hinduism, Buddhism, Islam, Sikhism, and Christianity, each with its own festivals, rituals, and traditions. Diwali, Holi, Eid, and Christmas are just a few examples of the vibrant celebrations that take place across the country throughout the year.', metadata={'source': 'data.txt'}),\n",
       " Document(page_content=\"India's cuisine is as diverse as its culture, with each region boasting its own unique flavors and delicacies. From the spicy curries of the south to the aromatic biryanis of the north and the delectable street food found in every city, Indian cuisine is a feast for the senses.\", metadata={'source': 'data.txt'}),\n",
       " Document(page_content=\"In addition to its cultural richness, India is also known for its architectural marvels, from the ancient temples of Hampi and Khajuraho to the majestic forts and palaces of Rajasthan. The Taj Mahal, a UNESCO World Heritage Site and one of the Seven Wonders of the World, stands as a testament to the country's rich history and architectural prowess.\", metadata={'source': 'data.txt'}),\n",
       " Document(page_content=\"India's wildlife is equally diverse, with national parks and sanctuaries scattered across the country providing refuge to endangered species such as tigers, elephants, and rhinoceroses. The Ranthambore National Park, Kaziranga National Park, and Bandhavgarh National Park are just a few examples of the country's thriving biodiversity.\", metadata={'source': 'data.txt'}),\n",
       " Document(page_content=\"Despite its many treasures, India also faces numerous challenges, including poverty, illiteracy, and inadequate healthcare. However, the country's resilient spirit and entrepreneurial drive have fueled its rapid economic growth and positioned it as a key player on the global stage.\", metadata={'source': 'data.txt'}),\n",
       " Document(page_content='In recent years, India has emerged as a leader in technology and innovation, with cities like Bengaluru, Hyderabad, and Pune earning the moniker of \"Silicon Valley of India.\" The country\\'s space program, led by the Indian Space Research Organisation (ISRO), has achieved numerous milestones, including sending a spacecraft to Mars at a fraction of the cost of similar missions by other countries.', metadata={'source': 'data.txt'}),\n",
       " Document(page_content='As India continues to navigate the complexities of the modern world, it remains rooted in its age-old traditions and values, serving as a source of inspiration and fascination for people around the globe. Whether exploring its ancient temples, sampling its diverse cuisine, or marveling at its natural beauty, India never fails to captivate the imagination and leave a lasting impression on all who visit.', metadata={'source': 'data.txt'})]"
      ]
     },
     "execution_count": 17,
     "metadata": {},
     "output_type": "execute_result"
    }
   ],
   "source": [
    "from langchain.text_splitter import RecursiveCharacterTextSplitter\n",
    "\n",
    "text_splitter = RecursiveCharacterTextSplitter(chunk_size=500, chunk_overlap=10)\n",
    "text_splitter.split_documents(text_documents)"
   ]
  },
  {
   "cell_type": "markdown",
   "metadata": {},
   "source": [
    "<h4>Where should my question be directed for search? Which specific chunk of the document should I target?</h4>\n",
    "\n",
    "<p>When dealing with a specific question, the task involves locating pertinent segments from the text to submit to the model. This is where the concept of embeddings becomes crucial.\n",
    "\n",
    "An embedding serves as a numerical representation of the semantic essence of a word, sentence, or document. Essentially, it's a mapping of a concept in a multidimensional space. Embeddings exhibit a fundamental property: Related concepts are projected close to each other, while those with disparate meanings are positioned farther apart. For visualizing embeddings in a two-dimensional space, <a href=\"https://dashboard.cohere.com/playground/embed\" >Cohere&apos;s Embed Playground</a> proves to be a valuable tool.\n",
    "\n",
    "To furnish the most relevant segments, we leverage embeddings of both the question and the text's chunks to gauge their similarity. Subsequently, we identify the chunks with the highest similarity to the question and utilize them as the context for the model.</p>"
   ]
  },
  {
   "cell_type": "code",
   "execution_count": 25,
   "metadata": {},
   "outputs": [
    {
     "name": "stdout",
     "output_type": "stream",
     "text": [
      "Embedding length: 1536\n",
      "[0.011853807232531106, 0.0020231415346209864]\n"
     ]
    }
   ],
   "source": [
    "from langchain_openai.embeddings import OpenAIEmbeddings\n",
    "\n",
    "embeddings = OpenAIEmbeddings(openai_api_key=OPENAI_API_KEY)\n",
    "embedded_query = embeddings.embed_query(\"What are some of the diverse landscapes mentioned in the description of India?\")\n",
    "\n",
    "print(f\"Embedding length: {len(embedded_query)}\")\n",
    "print(embedded_query[:2])"
   ]
  },
  {
   "cell_type": "markdown",
   "metadata": {},
   "source": [
    "<h3>Output : </h3>\n",
    "The text highlights a variety of landscapes found in India, including:\n",
    "\n",
    "1. The snow-capped peaks of the Himalayas in the north.\n",
    "2. The sun-kissed beaches of Goa in the west.\n",
    "3. The lush backwaters of Kerala in the south.\n",
    "\n",
    "These diverse landscapes offer a range of experiences for travelers and adventurers, from mountain trekking to beach relaxation and serene boating through scenic waterways."
   ]
  },
  {
   "cell_type": "markdown",
   "metadata": {},
   "source": [
    "Whats Next? \n",
    "\n",
    "Lets put our test file in vector database. Coming soon........."
   ]
  }
 ],
 "metadata": {
  "kernelspec": {
   "display_name": ".venv",
   "language": "python",
   "name": "python3"
  },
  "language_info": {
   "codemirror_mode": {
    "name": "ipython",
    "version": 3
   },
   "file_extension": ".py",
   "mimetype": "text/x-python",
   "name": "python",
   "nbconvert_exporter": "python",
   "pygments_lexer": "ipython3",
   "version": "3.12.3"
  }
 },
 "nbformat": 4,
 "nbformat_minor": 2
}
